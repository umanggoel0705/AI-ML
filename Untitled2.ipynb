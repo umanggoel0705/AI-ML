{
 "cells": [
  {
   "cell_type": "code",
   "execution_count": 1,
   "id": "70e8ba83-5f38-48b0-ba70-cea97b10c4a4",
   "metadata": {},
   "outputs": [],
   "source": [
    "import numpy as np\n",
    "import matplotlib.pyplot as plt\n",
    "from sklearn.linear_model import LinearRegression"
   ]
  },
  {
   "cell_type": "code",
   "execution_count": 19,
   "id": "5cbd65e8-c490-420f-9b8b-e32463ff9699",
   "metadata": {},
   "outputs": [],
   "source": [
    "x_train = np.array([[1,2,3,4]])\n",
    "y_train = np.array(np.dot(x_train,2) + 3)"
   ]
  },
  {
   "cell_type": "code",
   "execution_count": 21,
   "id": "090dee3b-d057-41f7-8ee2-78fb1d63b6f4",
   "metadata": {},
   "outputs": [],
   "source": [
    "x_train  = x_train.reshape((4, 1))"
   ]
  },
  {
   "cell_type": "code",
   "execution_count": 22,
   "id": "8d5a6c5e-16aa-4747-b857-30f50c9f5f35",
   "metadata": {},
   "outputs": [
    {
     "data": {
      "text/plain": [
       "array([[1],\n",
       "       [2],\n",
       "       [3],\n",
       "       [4]])"
      ]
     },
     "execution_count": 22,
     "metadata": {},
     "output_type": "execute_result"
    }
   ],
   "source": [
    "x_train"
   ]
  },
  {
   "cell_type": "code",
   "execution_count": 14,
   "id": "598e791d-b6c7-4791-82a8-33c740bd14cb",
   "metadata": {},
   "outputs": [],
   "source": [
    "# x_train = np.reshape(4,2)\n",
    "# y_train = np.reshape(4,2)\n",
    "reg = LinearRegression().fit(x_train, y_train)"
   ]
  },
  {
   "cell_type": "code",
   "execution_count": 16,
   "id": "38f350ef-2f9f-473a-828e-fa19d433e3ad",
   "metadata": {},
   "outputs": [],
   "source": [
    "x_test = np.array([[10],[11],[14],[16]])\n",
    "y_pred = reg.predict(x_test)"
   ]
  },
  {
   "cell_type": "code",
   "execution_count": 17,
   "id": "79629004-9e32-4a3d-b6d5-bf02f34d8eb9",
   "metadata": {},
   "outputs": [
    {
     "name": "stdout",
     "output_type": "stream",
     "text": [
      "[[23.]\n",
      " [25.]\n",
      " [31.]\n",
      " [35.]]\n"
     ]
    }
   ],
   "source": [
    "print(y_pred)"
   ]
  },
  {
   "cell_type": "code",
   "execution_count": 15,
   "id": "48d41020-70b6-4940-93e8-08b65abe29c4",
   "metadata": {},
   "outputs": [
    {
     "data": {
      "text/plain": [
       "1.0"
      ]
     },
     "execution_count": 15,
     "metadata": {},
     "output_type": "execute_result"
    }
   ],
   "source": [
    "reg.score(x_train, y_train)"
   ]
  },
  {
   "cell_type": "code",
   "execution_count": null,
   "id": "30309e3f-403d-487d-917a-ded69c1e0667",
   "metadata": {},
   "outputs": [],
   "source": []
  }
 ],
 "metadata": {
  "kernelspec": {
   "display_name": "Python 3 (ipykernel)",
   "language": "python",
   "name": "python3"
  },
  "language_info": {
   "codemirror_mode": {
    "name": "ipython",
    "version": 3
   },
   "file_extension": ".py",
   "mimetype": "text/x-python",
   "name": "python",
   "nbconvert_exporter": "python",
   "pygments_lexer": "ipython3",
   "version": "3.12.0"
  }
 },
 "nbformat": 4,
 "nbformat_minor": 5
}
